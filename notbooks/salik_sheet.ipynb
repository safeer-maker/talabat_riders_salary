{
 "cells": [
  {
   "cell_type": "markdown",
   "metadata": {},
   "source": [
    "# Description"
   ]
  },
  {
   "cell_type": "code",
   "execution_count": 5,
   "metadata": {},
   "outputs": [],
   "source": [
    "import pandas as pd\n",
    "import os\n",
    "from datetime import datetime"
   ]
  },
  {
   "cell_type": "code",
   "execution_count": 6,
   "metadata": {},
   "outputs": [
    {
     "name": "stdout",
     "output_type": "stream",
     "text": [
      "File exists\n"
     ]
    }
   ],
   "source": [
    "file_name = '../data/Dec Data.xlsx'\n",
    "\n",
    "if os.path.exists(file_name):\n",
    "    print('File exists')\n",
    "else:\n",
    "    print (os.listdir('../data'))\n",
    "    assert False, 'File does not exist'"
   ]
  },
  {
   "cell_type": "code",
   "execution_count": 7,
   "metadata": {},
   "outputs": [
    {
     "data": {
      "text/plain": [
       "['Salik Dec', 'Fine Dec', 'Bike History']"
      ]
     },
     "execution_count": 7,
     "metadata": {},
     "output_type": "execute_result"
    }
   ],
   "source": [
    "excel = pd.ExcelFile(file_name)\n",
    "excel.sheet_names"
   ]
  },
  {
   "cell_type": "code",
   "execution_count": 8,
   "metadata": {},
   "outputs": [
    {
     "name": "stdout",
     "output_type": "stream",
     "text": [
      "['Salik Dec']\n"
     ]
    }
   ],
   "source": [
    "salik_sheets = [sheet for sheet in excel.sheet_names if 'salik' in sheet.lower()]\n",
    "print(salik_sheets)"
   ]
  },
  {
   "cell_type": "code",
   "execution_count": null,
   "metadata": {},
   "outputs": [],
   "source": []
  },
  {
   "cell_type": "code",
   "execution_count": 9,
   "metadata": {},
   "outputs": [
    {
     "data": {
      "text/html": [
       "<div>\n",
       "<style scoped>\n",
       "    .dataframe tbody tr th:only-of-type {\n",
       "        vertical-align: middle;\n",
       "    }\n",
       "\n",
       "    .dataframe tbody tr th {\n",
       "        vertical-align: top;\n",
       "    }\n",
       "\n",
       "    .dataframe thead th {\n",
       "        text-align: right;\n",
       "    }\n",
       "</style>\n",
       "<table border=\"1\" class=\"dataframe\">\n",
       "  <thead>\n",
       "    <tr style=\"text-align: right;\">\n",
       "      <th></th>\n",
       "      <th>Transaction ID</th>\n",
       "      <th>Sponser</th>\n",
       "      <th>Trip Date</th>\n",
       "      <th>Plate</th>\n",
       "      <th>Amount (AED)</th>\n",
       "    </tr>\n",
       "  </thead>\n",
       "  <tbody>\n",
       "    <tr>\n",
       "      <th>0</th>\n",
       "      <td>30701884457</td>\n",
       "      <td>Marahah</td>\n",
       "      <td>2024-11-30</td>\n",
       "      <td>45447</td>\n",
       "      <td>4.25</td>\n",
       "    </tr>\n",
       "    <tr>\n",
       "      <th>1</th>\n",
       "      <td>10813081408</td>\n",
       "      <td>Marahah</td>\n",
       "      <td>2024-12-31</td>\n",
       "      <td>53068</td>\n",
       "      <td>4.25</td>\n",
       "    </tr>\n",
       "    <tr>\n",
       "      <th>2</th>\n",
       "      <td>50413081500</td>\n",
       "      <td>Marahah</td>\n",
       "      <td>2024-12-31</td>\n",
       "      <td>17352</td>\n",
       "      <td>4.25</td>\n",
       "    </tr>\n",
       "    <tr>\n",
       "      <th>3</th>\n",
       "      <td>80812981498</td>\n",
       "      <td>Marahah</td>\n",
       "      <td>2024-12-31</td>\n",
       "      <td>30951</td>\n",
       "      <td>4.25</td>\n",
       "    </tr>\n",
       "    <tr>\n",
       "      <th>4</th>\n",
       "      <td>20912981696</td>\n",
       "      <td>Marahah</td>\n",
       "      <td>2024-12-31</td>\n",
       "      <td>53068</td>\n",
       "      <td>4.25</td>\n",
       "    </tr>\n",
       "  </tbody>\n",
       "</table>\n",
       "</div>"
      ],
      "text/plain": [
       "   Transaction ID  Sponser  Trip Date  Plate  Amount (AED)\n",
       "0     30701884457  Marahah 2024-11-30  45447          4.25\n",
       "1     10813081408  Marahah 2024-12-31  53068          4.25\n",
       "2     50413081500  Marahah 2024-12-31  17352          4.25\n",
       "3     80812981498  Marahah 2024-12-31  30951          4.25\n",
       "4     20912981696  Marahah 2024-12-31  53068          4.25"
      ]
     },
     "execution_count": 9,
     "metadata": {},
     "output_type": "execute_result"
    }
   ],
   "source": [
    "df = excel.parse (\"Salik Dec\")\n",
    "df.head()"
   ]
  },
  {
   "cell_type": "code",
   "execution_count": 10,
   "metadata": {},
   "outputs": [
    {
     "data": {
      "text/plain": [
       "Transaction ID    0\n",
       "Sponser           0\n",
       "Trip Date         0\n",
       "Plate             0\n",
       "Amount (AED)      0\n",
       "dtype: int64"
      ]
     },
     "execution_count": 10,
     "metadata": {},
     "output_type": "execute_result"
    }
   ],
   "source": [
    "df.isna().sum()"
   ]
  },
  {
   "cell_type": "code",
   "execution_count": 9,
   "metadata": {},
   "outputs": [],
   "source": [
    "# data is clean but change dates to standard time fame"
   ]
  },
  {
   "cell_type": "code",
   "execution_count": 13,
   "metadata": {},
   "outputs": [
    {
     "data": {
      "text/html": [
       "<div>\n",
       "<style scoped>\n",
       "    .dataframe tbody tr th:only-of-type {\n",
       "        vertical-align: middle;\n",
       "    }\n",
       "\n",
       "    .dataframe tbody tr th {\n",
       "        vertical-align: top;\n",
       "    }\n",
       "\n",
       "    .dataframe thead th {\n",
       "        text-align: right;\n",
       "    }\n",
       "</style>\n",
       "<table border=\"1\" class=\"dataframe\">\n",
       "  <thead>\n",
       "    <tr style=\"text-align: right;\">\n",
       "      <th></th>\n",
       "      <th>Transaction ID</th>\n",
       "      <th>Sponser</th>\n",
       "      <th>Trip Date</th>\n",
       "      <th>Plate</th>\n",
       "      <th>Amount (AED)</th>\n",
       "    </tr>\n",
       "  </thead>\n",
       "  <tbody>\n",
       "  </tbody>\n",
       "</table>\n",
       "</div>"
      ],
      "text/plain": [
       "Empty DataFrame\n",
       "Columns: [Transaction ID, Sponser, Trip Date, Plate, Amount (AED)]\n",
       "Index: []"
      ]
     },
     "execution_count": 13,
     "metadata": {},
     "output_type": "execute_result"
    }
   ],
   "source": [
    "df[df.isna().any(axis=1)]"
   ]
  },
  {
   "cell_type": "code",
   "execution_count": 12,
   "metadata": {},
   "outputs": [
    {
     "data": {
      "text/plain": [
       "pandas._libs.tslibs.timestamps.Timestamp"
      ]
     },
     "execution_count": 12,
     "metadata": {},
     "output_type": "execute_result"
    }
   ],
   "source": [
    "type (df['Trip Date'][0])"
   ]
  },
  {
   "cell_type": "code",
   "execution_count": 13,
   "metadata": {},
   "outputs": [
    {
     "data": {
      "text/plain": [
       "30"
      ]
     },
     "execution_count": 13,
     "metadata": {},
     "output_type": "execute_result"
    }
   ],
   "source": [
    "df['Trip Date'][0].day"
   ]
  },
  {
   "cell_type": "code",
   "execution_count": 25,
   "metadata": {},
   "outputs": [
    {
     "data": {
      "text/plain": [
       "array([12, 13, 14, 15, 16, 17, 18, 19, 20, 21, 22, 23, 24, 25, 26])"
      ]
     },
     "execution_count": 25,
     "metadata": {},
     "output_type": "execute_result"
    }
   ],
   "source": [
    "df.iloc[10:25].index.values + 2"
   ]
  },
  {
   "cell_type": "code",
   "execution_count": 23,
   "metadata": {},
   "outputs": [
    {
     "data": {
      "text/html": [
       "<div>\n",
       "<style scoped>\n",
       "    .dataframe tbody tr th:only-of-type {\n",
       "        vertical-align: middle;\n",
       "    }\n",
       "\n",
       "    .dataframe tbody tr th {\n",
       "        vertical-align: top;\n",
       "    }\n",
       "\n",
       "    .dataframe thead th {\n",
       "        text-align: right;\n",
       "    }\n",
       "</style>\n",
       "<table border=\"1\" class=\"dataframe\">\n",
       "  <thead>\n",
       "    <tr style=\"text-align: right;\">\n",
       "      <th></th>\n",
       "      <th>Transaction ID</th>\n",
       "      <th>Sponser</th>\n",
       "      <th>Trip Date</th>\n",
       "      <th>Plate</th>\n",
       "      <th>Amount (AED)</th>\n",
       "    </tr>\n",
       "  </thead>\n",
       "  <tbody>\n",
       "    <tr>\n",
       "      <th>10</th>\n",
       "      <td>80312981151</td>\n",
       "      <td>Marahah</td>\n",
       "      <td>2024-12-31</td>\n",
       "      <td>67740</td>\n",
       "      <td>4.25</td>\n",
       "    </tr>\n",
       "    <tr>\n",
       "      <th>11</th>\n",
       "      <td>60612981745</td>\n",
       "      <td>Marahah</td>\n",
       "      <td>2024-12-31</td>\n",
       "      <td>67740</td>\n",
       "      <td>4.25</td>\n",
       "    </tr>\n",
       "    <tr>\n",
       "      <th>12</th>\n",
       "      <td>70812981538</td>\n",
       "      <td>Marahah</td>\n",
       "      <td>2024-12-31</td>\n",
       "      <td>50514</td>\n",
       "      <td>4.25</td>\n",
       "    </tr>\n",
       "    <tr>\n",
       "      <th>13</th>\n",
       "      <td>50412981634</td>\n",
       "      <td>Marahah</td>\n",
       "      <td>2024-12-31</td>\n",
       "      <td>45215</td>\n",
       "      <td>4.25</td>\n",
       "    </tr>\n",
       "    <tr>\n",
       "      <th>14</th>\n",
       "      <td>712981130</td>\n",
       "      <td>Marahah</td>\n",
       "      <td>2024-12-31</td>\n",
       "      <td>36674</td>\n",
       "      <td>4.25</td>\n",
       "    </tr>\n",
       "    <tr>\n",
       "      <th>15</th>\n",
       "      <td>10312981719</td>\n",
       "      <td>Marahah</td>\n",
       "      <td>2024-12-31</td>\n",
       "      <td>49744</td>\n",
       "      <td>4.25</td>\n",
       "    </tr>\n",
       "    <tr>\n",
       "      <th>16</th>\n",
       "      <td>60112981514</td>\n",
       "      <td>Marahah</td>\n",
       "      <td>2024-12-31</td>\n",
       "      <td>52681</td>\n",
       "      <td>4.25</td>\n",
       "    </tr>\n",
       "    <tr>\n",
       "      <th>17</th>\n",
       "      <td>10812981905</td>\n",
       "      <td>Marahah</td>\n",
       "      <td>2024-12-31</td>\n",
       "      <td>23508</td>\n",
       "      <td>4.25</td>\n",
       "    </tr>\n",
       "    <tr>\n",
       "      <th>18</th>\n",
       "      <td>70712881095</td>\n",
       "      <td>Marahah</td>\n",
       "      <td>2024-12-31</td>\n",
       "      <td>23508</td>\n",
       "      <td>4.25</td>\n",
       "    </tr>\n",
       "    <tr>\n",
       "      <th>19</th>\n",
       "      <td>70412881794</td>\n",
       "      <td>Marahah</td>\n",
       "      <td>2024-12-31</td>\n",
       "      <td>46100</td>\n",
       "      <td>4.25</td>\n",
       "    </tr>\n",
       "    <tr>\n",
       "      <th>20</th>\n",
       "      <td>20312881492</td>\n",
       "      <td>Marahah</td>\n",
       "      <td>2024-12-31</td>\n",
       "      <td>49741</td>\n",
       "      <td>4.25</td>\n",
       "    </tr>\n",
       "    <tr>\n",
       "      <th>21</th>\n",
       "      <td>40112881682</td>\n",
       "      <td>Marahah</td>\n",
       "      <td>2024-12-31</td>\n",
       "      <td>45602</td>\n",
       "      <td>4.25</td>\n",
       "    </tr>\n",
       "    <tr>\n",
       "      <th>22</th>\n",
       "      <td>50812881977</td>\n",
       "      <td>Marahah</td>\n",
       "      <td>2024-12-31</td>\n",
       "      <td>50221</td>\n",
       "      <td>4.25</td>\n",
       "    </tr>\n",
       "    <tr>\n",
       "      <th>23</th>\n",
       "      <td>50512881073</td>\n",
       "      <td>Marahah</td>\n",
       "      <td>2024-12-31</td>\n",
       "      <td>36746</td>\n",
       "      <td>4.25</td>\n",
       "    </tr>\n",
       "    <tr>\n",
       "      <th>24</th>\n",
       "      <td>90412881665</td>\n",
       "      <td>Marahah</td>\n",
       "      <td>2024-12-31</td>\n",
       "      <td>49741</td>\n",
       "      <td>4.25</td>\n",
       "    </tr>\n",
       "  </tbody>\n",
       "</table>\n",
       "</div>"
      ],
      "text/plain": [
       "    Transaction ID  Sponser  Trip Date  Plate  Amount (AED)\n",
       "10     80312981151  Marahah 2024-12-31  67740          4.25\n",
       "11     60612981745  Marahah 2024-12-31  67740          4.25\n",
       "12     70812981538  Marahah 2024-12-31  50514          4.25\n",
       "13     50412981634  Marahah 2024-12-31  45215          4.25\n",
       "14       712981130  Marahah 2024-12-31  36674          4.25\n",
       "15     10312981719  Marahah 2024-12-31  49744          4.25\n",
       "16     60112981514  Marahah 2024-12-31  52681          4.25\n",
       "17     10812981905  Marahah 2024-12-31  23508          4.25\n",
       "18     70712881095  Marahah 2024-12-31  23508          4.25\n",
       "19     70412881794  Marahah 2024-12-31  46100          4.25\n",
       "20     20312881492  Marahah 2024-12-31  49741          4.25\n",
       "21     40112881682  Marahah 2024-12-31  45602          4.25\n",
       "22     50812881977  Marahah 2024-12-31  50221          4.25\n",
       "23     50512881073  Marahah 2024-12-31  36746          4.25\n",
       "24     90412881665  Marahah 2024-12-31  49741          4.25"
      ]
     },
     "execution_count": 23,
     "metadata": {},
     "output_type": "execute_result"
    }
   ],
   "source": [
    "df.iloc[10:25]"
   ]
  },
  {
   "cell_type": "code",
   "execution_count": null,
   "metadata": {},
   "outputs": [],
   "source": []
  }
 ],
 "metadata": {
  "kernelspec": {
   "display_name": "ai",
   "language": "python",
   "name": "python3"
  },
  "language_info": {
   "codemirror_mode": {
    "name": "ipython",
    "version": 3
   },
   "file_extension": ".py",
   "mimetype": "text/x-python",
   "name": "python",
   "nbconvert_exporter": "python",
   "pygments_lexer": "ipython3",
   "version": "3.10.16"
  }
 },
 "nbformat": 4,
 "nbformat_minor": 2
}
